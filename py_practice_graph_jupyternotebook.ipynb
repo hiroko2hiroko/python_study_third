{
 "cells": [
  {
   "cell_type": "markdown",
   "id": "886b0e21",
   "metadata": {},
   "source": [
    "# 1. データの読み込み\n",
    "ここでは、test.csvファイルをDataframeの形で読み込みます。"
   ]
  },
  {
   "cell_type": "code",
   "execution_count": null,
   "id": "3e201e29",
   "metadata": {},
   "outputs": [],
   "source": [
    "import pandas as pd"
   ]
  },
  {
   "cell_type": "code",
   "execution_count": null,
   "id": "a858001c",
   "metadata": {
    "scrolled": true
   },
   "outputs": [],
   "source": [
    "df = pd.read_csv(\"test.csv\", encoding=\"utf-8\", index_col=0)\n",
    "df"
   ]
  },
  {
   "cell_type": "code",
   "execution_count": null,
   "id": "7418bdb8",
   "metadata": {
    "scrolled": true
   },
   "outputs": [],
   "source": [
    "df1 = pd.read_csv(\"test.csv\", header=None)\n",
    "df1"
   ]
  },
  {
   "cell_type": "code",
   "execution_count": null,
   "id": "4406c703",
   "metadata": {},
   "outputs": [],
   "source": [
    "df2 = pd.read_csv(\"test.csv\", header=0)\n",
    "df2"
   ]
  },
  {
   "cell_type": "code",
   "execution_count": null,
   "id": "bc1d26d6",
   "metadata": {},
   "outputs": [],
   "source": [
    "df3 = pd.read_csv(\"test.csv\", header=1)\n",
    "df3"
   ]
  },
  {
   "cell_type": "markdown",
   "id": "e727e3df",
   "metadata": {},
   "source": [
    "# 2. さまざまなグラフ"
   ]
  },
  {
   "cell_type": "code",
   "execution_count": null,
   "id": "57dd246e",
   "metadata": {},
   "outputs": [],
   "source": [
    "import matplotlib.pyplot as plt"
   ]
  },
  {
   "cell_type": "markdown",
   "id": "49a268ae",
   "metadata": {},
   "source": [
    "## 2-1. 折れ線グラフ\n",
    "時系列データの変動を可視化"
   ]
  },
  {
   "cell_type": "code",
   "execution_count": null,
   "id": "281d9b51",
   "metadata": {
    "scrolled": false
   },
   "outputs": [],
   "source": [
    "# Matplotlibでの日本語表示\n",
    "# (参考)https://www.yutaka-note.com/entry/matplotlib_japanese\n",
    "plt.rcParams['font.family'] = \"MS Gothic\"\n",
    "\n",
    "df.plot()"
   ]
  },
  {
   "cell_type": "code",
   "execution_count": null,
   "id": "1ea7fc57",
   "metadata": {},
   "outputs": [],
   "source": [
    "df.plot(y='A大学')"
   ]
  },
  {
   "cell_type": "code",
   "execution_count": null,
   "id": "ef075cf8",
   "metadata": {},
   "outputs": [],
   "source": [
    "df.plot(y=['A大学', 'B大学'])"
   ]
  },
  {
   "cell_type": "code",
   "execution_count": null,
   "id": "056a9757",
   "metadata": {},
   "outputs": [],
   "source": [
    "df.plot(subplots=True, figsize=(28.00, 10.00), grid=True ,lw=3, ylim=(1000, 5000))\n",
    "plt.subplots_adjust(hspace=0.1)"
   ]
  },
  {
   "cell_type": "code",
   "execution_count": null,
   "id": "e23efd66",
   "metadata": {},
   "outputs": [],
   "source": [
    "df.plot(y=[\"A大学\", \"B大学\"], xlabel=\"年度\", ylabel=\"学生数\", title=\"入学者数の変遷\")"
   ]
  },
  {
   "cell_type": "code",
   "execution_count": null,
   "id": "62adc8e1",
   "metadata": {},
   "outputs": [],
   "source": [
    "df.plot(y=[\"A大学\", \"B大学\"], xlabel=\"年度\", ylabel=\"学生数\")\n",
    "plt.legend(loc=\"upper left\")"
   ]
  },
  {
   "cell_type": "code",
   "execution_count": null,
   "id": "9587748f",
   "metadata": {},
   "outputs": [],
   "source": [
    "df.plot(y=[\"A大学\", \"B大学\"], xlabel=\"年度\", ylabel=\"学生数\")\n",
    "plt.legend(loc=(0.01, 0.8))"
   ]
  },
  {
   "cell_type": "code",
   "execution_count": null,
   "id": "9abd690b",
   "metadata": {},
   "outputs": [],
   "source": [
    "df.plot(y=[\"A大学\", \"B大学\"], xlabel=\"年度\", ylabel=\"学生数\")\n",
    "plt.legend(loc=(0.01, 0.8) ,ncol=2)"
   ]
  },
  {
   "cell_type": "markdown",
   "id": "a165b2e5",
   "metadata": {},
   "source": [
    "**折れ線グラフの主要な引数**\n",
    "\n",
    "- linewidth：線の太さ\n",
    "- linestyle：線の種類（solid（実践　※デフォルト）, dashed（破線）, dashdot（破線＆点線）, dotted（点線））\n",
    "- color：線の色\n",
    "- marker：マーカの種類（“.”（ポイント）,“o”（円）,  “^”（上向き三角形）, ・・・）\n",
    "- markersize：マーカの大きさ"
   ]
  },
  {
   "cell_type": "markdown",
   "id": "711e4fa9",
   "metadata": {},
   "source": [
    "## 2-2. ヒストグラム\n",
    "データの分布を可視化しやすい"
   ]
  },
  {
   "cell_type": "code",
   "execution_count": null,
   "id": "d15fa2a0",
   "metadata": {},
   "outputs": [],
   "source": [
    "plt.hist(df[\"A大学\"])"
   ]
  },
  {
   "cell_type": "code",
   "execution_count": null,
   "id": "b643285c",
   "metadata": {},
   "outputs": [],
   "source": [
    "plt.hist(df[\"A大学\"], bins=2)\n",
    "plt.savefig(\"test.png\")"
   ]
  },
  {
   "cell_type": "code",
   "execution_count": null,
   "id": "113a4d6e",
   "metadata": {},
   "outputs": [],
   "source": [
    "plt.savefig(\"test.png\")"
   ]
  },
  {
   "cell_type": "code",
   "execution_count": null,
   "id": "90de6abf",
   "metadata": {},
   "outputs": [],
   "source": [
    "import seaborn as sns\n",
    "sns.distplot(df[\"A大学\"], kde=False, rug=False, bins=5) \n",
    "plt.show()"
   ]
  },
  {
   "cell_type": "markdown",
   "id": "3a8490e5",
   "metadata": {},
   "source": [
    "## 2-3. 円グラフ\n",
    "ある量に占める内訳を可視化しやすい"
   ]
  },
  {
   "cell_type": "code",
   "execution_count": null,
   "id": "a21fca09",
   "metadata": {},
   "outputs": [],
   "source": [
    "df"
   ]
  },
  {
   "cell_type": "code",
   "execution_count": null,
   "id": "cab676d9",
   "metadata": {},
   "outputs": [],
   "source": [
    "df.iloc[:,3]"
   ]
  },
  {
   "cell_type": "code",
   "execution_count": null,
   "id": "8dc41d6c",
   "metadata": {},
   "outputs": [],
   "source": [
    "df.iloc[:,3].plot.pie()"
   ]
  },
  {
   "cell_type": "code",
   "execution_count": null,
   "id": "9b59e0ef",
   "metadata": {},
   "outputs": [],
   "source": [
    "df.loc[[\"2019年\"]]"
   ]
  },
  {
   "cell_type": "code",
   "execution_count": null,
   "id": "4d2f43f9",
   "metadata": {},
   "outputs": [],
   "source": [
    "df.loc[[\"2019年\"]].plot.pie()\n",
    "# エラーが返ってきます。"
   ]
  },
  {
   "cell_type": "code",
   "execution_count": null,
   "id": "5c0bc2ed",
   "metadata": {},
   "outputs": [],
   "source": [
    "df.loc[[\"2019年\"]].plot.pie(subplots=True)\n",
    "# こんなはずではなかったグラフ"
   ]
  },
  {
   "cell_type": "code",
   "execution_count": null,
   "id": "14738994",
   "metadata": {},
   "outputs": [],
   "source": [
    "df.T"
   ]
  },
  {
   "cell_type": "code",
   "execution_count": null,
   "id": "d79dbe02",
   "metadata": {},
   "outputs": [],
   "source": [
    "df.T.iloc[:,1].plot.pie()"
   ]
  },
  {
   "cell_type": "code",
   "execution_count": null,
   "id": "3942986f",
   "metadata": {},
   "outputs": [],
   "source": []
  }
 ],
 "metadata": {
  "kernelspec": {
   "display_name": "Python 3 (ipykernel)",
   "language": "python",
   "name": "python3"
  },
  "language_info": {
   "codemirror_mode": {
    "name": "ipython",
    "version": 3
   },
   "file_extension": ".py",
   "mimetype": "text/x-python",
   "name": "python",
   "nbconvert_exporter": "python",
   "pygments_lexer": "ipython3",
   "version": "3.7.11"
  }
 },
 "nbformat": 4,
 "nbformat_minor": 5
}
